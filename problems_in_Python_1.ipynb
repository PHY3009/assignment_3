{
 "cells": [
  {
   "cell_type": "markdown",
   "metadata": {},
   "source": [
    "## Example solutions"
   ]
  },
  {
   "cell_type": "markdown",
   "metadata": {},
   "source": [
    "a. Given a variable `word = \"supercalifragilisticexpialidocious\"`, use slicing/string indexing to create 3 new variables. The first containing the word \"super\", the second containing the word \"ice\", & the last containing the word \"us\". Output the results with the `print` function."
   ]
  },
  {
   "cell_type": "code",
   "execution_count": 2,
   "metadata": {
    "collapsed": false
   },
   "outputs": [
    {
     "name": "stdout",
     "output_type": "stream",
     "text": [
      "super\n",
      "ice\n",
      "us\n"
     ]
    }
   ],
   "source": [
    "# define the variable word \n",
    "word = 'supercalifeagilisticexpialidocious'\n",
    "\n",
    "# slice variables as the correct word slices.\n",
    "word_slice_1 = word[0:5]\n",
    "word_slice_2 = word[18:21]\n",
    "word_slice_3 = word[-2:]\n",
    "\n",
    "# print answers\n",
    "print(word_slice_1) \n",
    "print(word_slice_2)\n",
    "print(word_slice_3)"
   ]
  },
  {
   "cell_type": "markdown",
   "metadata": {},
   "source": [
    "b. Given a list of the even numbers from 1 - 10 inclusive, calculate the mean. Output the results with the print function. This should be done from scratch, not using Python functions that already exist."
   ]
  },
  {
   "cell_type": "code",
   "execution_count": 4,
   "metadata": {
    "collapsed": false
   },
   "outputs": [
    {
     "name": "stdout",
     "output_type": "stream",
     "text": [
      "the mean of the list of even numbers from 1 - 10 inclusive is: 6.0\n"
     ]
    }
   ],
   "source": [
    "# define a the list of the even numbers from 1 - 10 inclusive\n",
    "evens = [2,4,6,8,10]\n",
    "\n",
    "# calculated the sum of the numbers in the list \n",
    "total = evens[0] + evens[1] + evens[2] + evens[3] + evens[4]\n",
    "\n",
    "# divided by length to get the mean\n",
    "mean = total / 5\n",
    "\n",
    "# print the mean\n",
    "print('the mean of the list of even numbers from 1 - 10 inclusive is:', mean)"
   ]
  },
  {
   "cell_type": "markdown",
   "metadata": {},
   "source": [
    "c. Given a list of the even numbers from 1 - 10 inclusive, calculate the standard deviation. Output the results with the print function. This should be done from scratch, not using Python functions that already exist."
   ]
  },
  {
   "cell_type": "code",
   "execution_count": 5,
   "metadata": {
    "collapsed": false
   },
   "outputs": [
    {
     "name": "stdout",
     "output_type": "stream",
     "text": [
      "the standard deviation of the list of even numbers from 1 - 10 inclusive is: 2.8284271247461903\n"
     ]
    }
   ],
   "source": [
    "# first calculate the variance\n",
    "variance = ((evens[0]-mean)**2 +(evens[1]-mean)**2 +(evens[2]-mean)**2 +(evens[3]-mean)**2 +(evens[4]-mean)**2) / 5\n",
    "\n",
    "# next calculate the standard deviation by taking the square root\n",
    "standard_deviation = (variance) ** .5\n",
    "\n",
    "# print the standard deviation\n",
    "print('the standard deviation of the list of even numbers from 1 - 10 inclusive is:', standard_deviation)"
   ]
  },
  {
   "cell_type": "markdown",
   "metadata": {},
   "source": [
    "d. Given a list of the even numbers from 1 - 10 inclusive, calculate the standard error. Output the results with the print function. This should be done from scratch, not using Python functions that already exist."
   ]
  },
  {
   "cell_type": "code",
   "execution_count": 6,
   "metadata": {
    "collapsed": false
   },
   "outputs": [
    {
     "name": "stdout",
     "output_type": "stream",
     "text": [
      "the standard error of the list of even numbers from 1 - 10 inclusive is: 1.2649110640673518\n"
     ]
    }
   ],
   "source": [
    "# calculate standard error by dividing the standard deviation \n",
    "# by the square root of the length of the list \n",
    "standard_error = standard_deviation / 5**.5\n",
    "print('the standard error of the list of even numbers from 1 - 10 inclusive is:', standard_error)"
   ]
  },
  {
   "cell_type": "markdown",
   "metadata": {},
   "source": [
    "e. Write code that takes your first name and your last name and add them together to give your full name. Output the results with the print function. Note - there should be a space between you first and last name."
   ]
  },
  {
   "cell_type": "code",
   "execution_count": 7,
   "metadata": {
    "collapsed": false
   },
   "outputs": [
    {
     "name": "stdout",
     "output_type": "stream",
     "text": [
      "My full name is: Tiffany Timbers\n"
     ]
    }
   ],
   "source": [
    "# To get my full name I just created three string variables \n",
    "# to hold my name and the spacer\n",
    "first_name = \"Tiffany\"\n",
    "spacer = \" \"\n",
    "last_name = \"Timbers\"\n",
    "\n",
    "# Use string concatenation to join the three strings together \n",
    "full_name = first_name + spacer + last_name\n",
    "\n",
    "# print my full name\n",
    "print('My full name is:', full_name)"
   ]
  }
 ],
 "metadata": {
  "kernelspec": {
   "display_name": "Python 3",
   "language": "python",
   "name": "python3"
  },
  "language_info": {
   "codemirror_mode": {
    "name": "ipython",
    "version": 3
   },
   "file_extension": ".py",
   "mimetype": "text/x-python",
   "name": "python",
   "nbconvert_exporter": "python",
   "pygments_lexer": "ipython3",
   "version": "3.4.3"
  }
 },
 "nbformat": 4,
 "nbformat_minor": 0
}
